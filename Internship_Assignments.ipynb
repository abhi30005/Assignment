{
 "cells": [
  {
   "cell_type": "code",
   "execution_count": 6,
   "id": "a122c964-8907-4a89-acd1-96635c3b5017",
   "metadata": {},
   "outputs": [
    {
     "name": "stdin",
     "output_type": "stream",
     "text": [
      "Enter the number of Rows: 5\n"
     ]
    },
    {
     "name": "stdout",
     "output_type": "stream",
     "text": [
      "*  \n",
      "* *  \n",
      "* * *  \n",
      "* * * *  \n",
      "* * * * *  \n",
      "* * * *  \n",
      "* * *  \n",
      "* *  \n",
      "*  \n",
      " \n"
     ]
    }
   ],
   "source": [
    "# Write a Python Program to Generate the Pattern:\n",
    "n=eval(input(\"Enter the number of Rows:\"))     \n",
    "for i in range(0,n):    \n",
    "    for j in range(0,i+1):    \n",
    "        print(\"*\",end=\" \")        \n",
    "    print(\" \")      \n",
    "for i in range(n,0,-1):    \n",
    "    for j in range(0,i-1):     \n",
    "        print(\"*\",end=\" \")    \n",
    "    print(\" \") "
   ]
  },
  {
   "cell_type": "code",
   "execution_count": 86,
   "id": "0634fc4d-48c1-4d6f-9ad5-2cb68e0a812b",
   "metadata": {},
   "outputs": [
    {
     "name": "stdin",
     "output_type": "stream",
     "text": [
      "Enter a Number: 7\n"
     ]
    },
    {
     "name": "stdout",
     "output_type": "stream",
     "text": [
      "7 is a Prime Number..\n"
     ]
    }
   ],
   "source": [
    "# Take a numbers as a input from user.Check Wheather it is Prime or Not.\n",
    "n=eval(input(\"Enter a Number:\"))\n",
    "if(n==1 or n==0):\n",
    "    print(n,\"is not a Prime Number..\")\n",
    "else:\n",
    "    for i in range(2,(n//2)+1):\n",
    "        if (n%i)==0:\n",
    "            print(n,\"is not a Prime Number..\")\n",
    "            break\n",
    "    else:\n",
    "        print(n, \"is a Prime Number..\")"
   ]
  },
  {
   "cell_type": "code",
   "execution_count": 94,
   "id": "aba0eb36-bbe2-4ce4-a776-641b6c2014d7",
   "metadata": {},
   "outputs": [
    {
     "name": "stdin",
     "output_type": "stream",
     "text": [
      "From:  1\n",
      "To:  10\n"
     ]
    },
    {
     "name": "stdout",
     "output_type": "stream",
     "text": [
      "1 4 9 \n",
      "Total no of perfect square numbers in the given range is: 3\n"
     ]
    }
   ],
   "source": [
    "# Count the number of perfect square numbers in a given range, range is take as input from user\n",
    "import math\n",
    "l= int(input(\"From: \"))\n",
    "u= int(input(\"To: \"))\n",
    "c=0\n",
    "for n in range(l,u+1):\n",
    "    root=sqrt(n)\n",
    "    i=int(root)\n",
    "    x=i*i\n",
    "    if(n==x):\n",
    "        c+=1\n",
    "        print(n,end=' ')\n",
    "print(\"\\nTotal no of perfect square numbers in the given range is:\",c)"
   ]
  },
  {
   "cell_type": "code",
   "execution_count": null,
   "id": "7b1f4f4a-648b-40ae-8d99-ee11ef05f712",
   "metadata": {},
   "outputs": [],
   "source": []
  }
 ],
 "metadata": {
  "kernelspec": {
   "display_name": "Python 3 (ipykernel)",
   "language": "python",
   "name": "python3"
  },
  "language_info": {
   "codemirror_mode": {
    "name": "ipython",
    "version": 3
   },
   "file_extension": ".py",
   "mimetype": "text/x-python",
   "name": "python",
   "nbconvert_exporter": "python",
   "pygments_lexer": "ipython3",
   "version": "3.11.7"
  }
 },
 "nbformat": 4,
 "nbformat_minor": 5
}
